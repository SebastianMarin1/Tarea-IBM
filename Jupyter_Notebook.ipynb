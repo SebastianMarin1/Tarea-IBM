{
 "cells": [
  {
   "cell_type": "markdown",
   "metadata": {},
   "source": [
    "<center>\n",
    "    <img src=\"https://cf-courses-data.s3.us.cloud-object-storage.appdomain.cloud/IBMDeveloperSkillsNetwork-DS0105EN-SkillsNetwork/labs/Module2/images/SN_web_lightmode.png\" width=\"300\" alt=\"cognitiveclass.ai logo\">\n",
    "</center>\n"
   ]
  },
  {
   "cell_type": "markdown",
   "metadata": {},
   "source": [
    "#### Add your code below following the instructions given in the course\n"
   ]
  },
  {
   "cell_type": "markdown",
   "metadata": {},
   "source": [
    "# Tarea Calificada por compañeros"
   ]
  },
  {
   "cell_type": "markdown",
   "metadata": {},
   "source": [
    "# Introducción\n",
    "Este cuaderno es mi proyecto final del curso de Ciencia de Datos, donde aplicaré lo aprendido sobre análisis y manipulación de datos. Utilizaré Jupyterlite Notebook para desarrollar y compartir mi trabajo de forma pública. Además, subiré el cuaderno a GitHub para facilitar la colaboración y recibir retroalimentación, permitiéndome seguir mejorando mis habilidades en ciencia de datos"
   ]
  },
  {
   "cell_type": "markdown",
   "metadata": {},
   "source": [
    "# Lenguajes de Ciencia de datos\n",
    "1. Python\n",
    "\n",
    "2. R\n",
    "\n",
    "3. SQL\n",
    "\n",
    "4. Julia\n",
    "\n",
    "5. Scala\n",
    "\n",
    "7. Java\n",
    "\n",
    "8. C/C++\n",
    "\n",
    "9. MATLAB\n",
    "\n",
    "10. SAS"
   ]
  },
  {
   "cell_type": "markdown",
   "metadata": {},
   "source": [
    "# Biblioteca de ciencias de datos\n",
    "1. Pandas (Python)\n",
    "2. Dplyr (R)\n",
    "3. NumPy (Python)\n",
    "4. SciPy (Python)\n",
    "5. Matplotlib (Python)\n",
    "6. Seaborn (Python)\n",
    "7. Scikit-learn (Python)\n",
    "8. TensorFlow (Python)\n",
    "9. Theano (Python)\n",
    "10. MXNet (Python)"
   ]
  },
  {
   "cell_type": "markdown",
   "metadata": {},
   "source": [
    "# Herramientas de Ciencia de Datos\n",
    "| Herramienta        | Descripción                                      | Tipo                    |\n",
    "|--------------------|--------------------------------------------------|-------------------------|\n",
    "| Jupyter Notebook | Plataforma interactiva para escribir y ejecutar código en cuadernos de datos. | Entorno de desarrollo    |\n",
    "| RStudio         | Entorno de desarrollo optimizado para el lenguaje R y análisis estadístico. | Entorno de desarrollo    |\n",
    "| Anaconda        | Suite que simplifica la instalación y gestión de paquetes y entornos en Python. | Plataforma de gestión   |\n",
    "| Power BI        | Software de Microsoft para la visualización y análisis de datos. | Visualización de datos   |"
   ]
  },
  {
   "cell_type": "markdown",
   "metadata": {},
   "source": [
    "# Ejemplos de Expresiones Aritméticas\n",
    "\n",
    "En Python, se pueden realizar operaciones aritméticas básicas utilizando los siguientes operadores:\n",
    "\n",
    "- **Suma (`+`)**: `5 + 3` → **8**\n",
    "- **Resta (`-`)**: `10 - 4` → **6**\n",
    "- **Multiplicación (`*`)**: `6 * 7` → **42**\n",
    "- **División (`/`)**: `15 / 3` → **5.0**\n",
    "- **Potencia (`**`)**: `2 ** 3` → **8**\n",
    "\n",
    "### Ejemplo en Código:\n",
    "```python\n",
    "a = 10\n",
    "b = 3\n",
    "\n",
    "suma = a + b\n",
    "resta = a - b\n",
    "multiplicacion = a * b\n",
    "division = a / b\n",
    "potencia = a ** b\n",
    "\n",
    "print(\"Suma:\", suma)\n",
    "print(\"Resta:\", resta)\n",
    "print(\"Multiplicación:\", multiplicacion)\n",
    "print(\"División:\", division)\n",
    "print(\"Potencia:\", potencia)\n"
   ]
  },
  {
   "cell_type": "code",
   "execution_count": 2,
   "metadata": {},
   "outputs": [
    {
     "name": "stdout",
     "output_type": "stream",
     "text": [
      "Suma: 7\n",
      "Multiplicación: 10\n"
     ]
    }
   ],
   "source": [
    "# Definir dos números\n",
    "a = 5\n",
    "b = 2\n",
    "\n",
    "# Operaciones aritméticas\n",
    "suma = a + b\n",
    "multiplicacion = a * b\n",
    "\n",
    "# Imprimir resultados\n",
    "print(\"Suma:\", suma)\n",
    "print(\"Multiplicación:\", multiplicacion)"
   ]
  },
  {
   "cell_type": "code",
   "execution_count": 3,
   "metadata": {},
   "outputs": [
    {
     "name": "stdout",
     "output_type": "stream",
     "text": [
      "150 minutos equivalen a 2.5 horas\n"
     ]
    }
   ],
   "source": [
    "# Definir la cantidad de minutos\n",
    "minutos = 150\n",
    "\n",
    "# Convertir minutos a horas\n",
    "horas = minutos / 60\n",
    "\n",
    "# Imprimir el resultado\n",
    "print(minutos, \"minutos equivalen a\", horas, \"horas\")\n"
   ]
  },
  {
   "cell_type": "code",
   "execution_count": 4,
   "metadata": {},
   "outputs": [
    {
     "name": "stdout",
     "output_type": "stream",
     "text": [
      "Lista de Objetivos:\n",
      "1. Aprender a codificar en ingles\n",
      "2. Mejorar en ciencia de datos\n",
      "3. Dominar el uso de Jupyter Notebook\n",
      "4. Aplicar modelos de aprendizaje automático\n"
     ]
    }
   ],
   "source": [
    "# Lista de objetivos\n",
    "objetivos = [\n",
    "    \"Aprender a codificar en ingles\",\n",
    "    \"Mejorar en ciencia de datos\",\n",
    "    \"Dominar el uso de Jupyter Notebook\",\n",
    "    \"Aplicar modelos de aprendizaje automático\"\n",
    "]\n",
    "\n",
    "# Imprimir la lista de objetivos\n",
    "print(\"Lista de Objetivos:\")\n",
    "for i, objetivo in enumerate(objetivos, 1):\n",
    "    print(f\"{i}. {objetivo}\")\n"
   ]
  },
  {
   "cell_type": "markdown",
   "metadata": {},
   "source": [
    "# El autor de estos notebook es Sebastián Marín"
   ]
  },
  {
   "cell_type": "code",
   "execution_count": null,
   "metadata": {},
   "outputs": [],
   "source": []
  }
 ],
 "metadata": {
  "kernelspec": {
   "display_name": "Python 3 (ipykernel)",
   "language": "python",
   "name": "python3"
  },
  "language_info": {
   "codemirror_mode": {
    "name": "ipython",
    "version": 3
   },
   "file_extension": ".py",
   "mimetype": "text/x-python",
   "name": "python",
   "nbconvert_exporter": "python",
   "pygments_lexer": "ipython3",
   "version": "3.12.8"
  }
 },
 "nbformat": 4,
 "nbformat_minor": 4
}
